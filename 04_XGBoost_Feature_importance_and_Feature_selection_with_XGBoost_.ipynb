{
  "nbformat": 4,
  "nbformat_minor": 0,
  "metadata": {
    "colab": {
      "provenance": []
    },
    "kernelspec": {
      "name": "python3",
      "display_name": "Python 3"
    },
    "language_info": {
      "name": "python"
    }
  },
  "cells": [
    {
      "cell_type": "markdown",
      "source": [
        "# Feature Importance and Feature Selection With XGBoost"
      ],
      "metadata": {
        "id": "MxXwaOY_ic-_"
      }
    },
    {
      "cell_type": "markdown",
      "source": [
        "## 0. Introduction\n",
        "\n",
        "This notebook contains:\n",
        "  1. Plot feature importances with XGBoost\n",
        "  2. Use feature importance to perform feature selection"
      ],
      "metadata": {
        "id": "8tR1zqcLi3ey"
      }
    },
    {
      "cell_type": "markdown",
      "source": [
        "## 1. Feature importance with XGBoost"
      ],
      "metadata": {
        "id": "6ym6lRZpjRhE"
      }
    },
    {
      "cell_type": "code",
      "execution_count": 11,
      "metadata": {
        "id": "7QzpYqA2iMmE"
      },
      "outputs": [],
      "source": [
        "import pandas as pd\n",
        "import numpy as np\n",
        "import matplotlib.pyplot as plt\n",
        "from xgboost import XGBClassifier\n",
        "from xgboost.plotting import plot_importance\n",
        "from sklearn.feature_selection import SelectFromModel\n",
        "from sklearn.model_selection import train_test_split\n",
        "from sklearn.metrics import accuracy_score"
      ]
    },
    {
      "cell_type": "code",
      "source": [
        "pima = 'https://raw.githubusercontent.com/jbrownlee/Datasets/master/pima-indians-diabetes.csv'"
      ],
      "metadata": {
        "id": "IbU6EwbOk0fb"
      },
      "execution_count": 2,
      "outputs": []
    },
    {
      "cell_type": "code",
      "source": [
        "data = pd.read_csv(pima, header=None)\n",
        "X, y = data.iloc[:, :-1], data.iloc[:, -1]\n",
        "model = XGBClassifier()\n",
        "model.fit(X, y)\n",
        "feature_imp = np.sort(model.feature_importances_)\n",
        "plt.bar(range(0, len(feature_imp)), feature_imp)\n",
        "plt.show()"
      ],
      "metadata": {
        "colab": {
          "base_uri": "https://localhost:8080/",
          "height": 265
        },
        "id": "Z-yiiJ83lBH3",
        "outputId": "16680224-7b89-449d-b891-e06b09ec9de6"
      },
      "execution_count": 6,
      "outputs": [
        {
          "output_type": "display_data",
          "data": {
            "text/plain": [
              "<Figure size 432x288 with 1 Axes>"
            ],
            "image/png": "[encoded data removed]"
          },
          "metadata": {
            "needs_background": "light"
          }
        }
      ]
    },
    {
      "cell_type": "code",
      "source": [
        "\n",
        "# Using in-built function\n",
        "plot_importance(model)\n",
        "plt.show()"
      ],
      "metadata": {
        "colab": {
          "base_uri": "https://localhost:8080/",
          "height": 295
        },
        "id": "V_yXKVDnlkbH",
        "outputId": "5e9c5ae0-c058-4525-f6eb-d55ff16018be"
      },
      "execution_count": 4,
      "outputs": [
        {
          "output_type": "display_data",
          "data": {
            "text/plain": [
              "<Figure size 432x288 with 1 Axes>"
            ],
            "image/png": "[encoded data removed]"
          },
          "metadata": {
            "needs_background": "light"
          }
        }
      ]
    },
    {
      "cell_type": "markdown",
      "source": [
        "## 2. Feature selection using XGBoost feature importance scores"
      ],
      "metadata": {
        "id": "__PlLFuzmgx5"
      }
    },
    {
      "cell_type": "code",
      "source": [
        "data = pd.read_csv(pima, header=None)\n",
        "X, y = data.iloc[:, :-1], data.iloc[:, -1]\n",
        "X_train, X_test, y_train, y_test = train_test_split(X, y, test_size=0.2, random_state=42)\n",
        "model = XGBClassifier()\n",
        "model.fit(X_train, y_train)\n",
        "y_preds = model.predict(X_test)\n",
        "score = accuracy_score(y_test, y_preds)\n",
        "print(f\"Accuracy: {score*100:.2f}%\")"
      ],
      "metadata": {
        "colab": {
          "base_uri": "https://localhost:8080/"
        },
        "id": "gg4NHKUfmF7w",
        "outputId": "05ec7dc9-ffc2-4284-bcce-da3fce7978bb"
      },
      "execution_count": 12,
      "outputs": [
        {
          "output_type": "stream",
          "name": "stdout",
          "text": [
            "Accuracy: 68.83%\n"
          ]
        }
      ]
    },
    {
      "cell_type": "code",
      "source": [
        "thresholds = np.sort(model.feature_importances_)\n",
        "for thresh in thresholds:\n",
        "  # select features\n",
        "  selection = SelectFromModel(model, threshold=thresh, prefit=True)\n",
        "  select_X_train = selection.transform(X_train)\n",
        "  # train model\n",
        "  selection_model = XGBClassifier()\n",
        "  selection_model.fit(select_X_train, y_train)\n",
        "  # eval model\n",
        "  select_X_test = selection.transform(X_test)\n",
        "  y_preds = selection_model.predict(select_X_test)\n",
        "  score = accuracy_score(y_test, y_preds)\n",
        "  print(f\"Features: {select_X_train.shape[1]}, Threshold: {thresh:.2f}, Accuracy: {score*100:.2f}%\")"
      ],
      "metadata": {
        "colab": {
          "base_uri": "https://localhost:8080/"
        },
        "id": "hYDNjQYSoXIk",
        "outputId": "2249c994-dce0-4c56-abc1-04b85f1e9ea0"
      },
      "execution_count": 15,
      "outputs": [
        {
          "output_type": "stream",
          "name": "stdout",
          "text": [
            "Features: 8, Threshold: 0.07, Accuracy: 68.83%\n",
            "Features: 7, Threshold: 0.09, Accuracy: 70.78%\n",
            "Features: 6, Threshold: 0.09, Accuracy: 69.48%\n",
            "Features: 5, Threshold: 0.10, Accuracy: 71.43%\n",
            "Features: 4, Threshold: 0.12, Accuracy: 75.32%\n",
            "Features: 3, Threshold: 0.14, Accuracy: 70.78%\n",
            "Features: 2, Threshold: 0.14, Accuracy: 75.32%\n",
            "Features: 1, Threshold: 0.25, Accuracy: 68.83%\n"
          ]
        }
      ]
    },
    {
      "cell_type": "code",
      "source": [],
      "metadata": {
        "id": "JfNISBRbrieX"
      },
      "execution_count": null,
      "outputs": []
    }
  ]
}