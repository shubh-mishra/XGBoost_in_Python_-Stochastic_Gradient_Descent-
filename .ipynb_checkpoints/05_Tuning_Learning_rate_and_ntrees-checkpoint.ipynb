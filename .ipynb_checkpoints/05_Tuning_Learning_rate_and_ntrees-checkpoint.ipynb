{
 "cells": [
  {
   "cell_type": "markdown",
   "metadata": {
    "id": "R-7fKbXVusk0"
   },
   "source": [
    "# Tune Learning Rate for Gradient Boosting with XGBoost"
   ]
  },
  {
   "cell_type": "markdown",
   "metadata": {
    "id": "8rqyl4sHu8Bq"
   },
   "source": [
    "## 0. Introduction\n",
    "\n",
    "This notebook contains:\n",
    "  1. Tune learning rate in XGBoost\n",
    "  2. Tune learning rate and number of trees in XGBoost\n",
    "\n",
    "* **Note:** XGBoost tuning suggestions: https://machinelearningmastery.com/configure-gradient-boosting-algorithm/"
   ]
  },
  {
   "cell_type": "markdown",
   "metadata": {
    "id": "oddq0PSYwFrH"
   },
   "source": [
    "## 1. Tune learning rate in XGBoost "
   ]
  },
  {
   "cell_type": "code",
   "execution_count": 1,
   "metadata": {
    "id": "0uWt05FDurbN"
   },
   "outputs": [],
   "source": [
    "otto = \"https://raw.githubusercontent.com/shubh-mishra/XGBoost_in_Python_-Stochastic_Gradient_Descent-/master/train.csv\""
   ]
  },
  {
   "cell_type": "code",
   "execution_count": 11,
   "metadata": {
    "id": "2TPITGrazt0N"
   },
   "outputs": [],
   "source": [
    "import pandas as pd\n",
    "import numpy as np\n",
    "import matplotlib.pyplot as plt\n",
    "from xgboost import XGBClassifier\n",
    "from sklearn.preprocessing import LabelEncoder\n",
    "from sklearn.model_selection import StratifiedKFold, GridSearchCV"
   ]
  },
  {
   "cell_type": "code",
   "execution_count": 3,
   "metadata": {
    "colab": {
     "base_uri": "https://localhost:8080/",
     "height": 235
    },
    "id": "7jxWQIaKzyu2",
    "outputId": "9a463b43-6ddb-4b5b-ff77-e27b3018c221"
   },
   "outputs": [
    {
     "data": {
      "text/html": [
       "<div>\n",
       "<style scoped>\n",
       "    .dataframe tbody tr th:only-of-type {\n",
       "        vertical-align: middle;\n",
       "    }\n",
       "\n",
       "    .dataframe tbody tr th {\n",
       "        vertical-align: top;\n",
       "    }\n",
       "\n",
       "    .dataframe thead th {\n",
       "        text-align: right;\n",
       "    }\n",
       "</style>\n",
       "<table border=\"1\" class=\"dataframe\">\n",
       "  <thead>\n",
       "    <tr style=\"text-align: right;\">\n",
       "      <th></th>\n",
       "      <th>id</th>\n",
       "      <th>feat_1</th>\n",
       "      <th>feat_2</th>\n",
       "      <th>feat_3</th>\n",
       "      <th>feat_4</th>\n",
       "      <th>feat_5</th>\n",
       "      <th>feat_6</th>\n",
       "      <th>feat_7</th>\n",
       "      <th>feat_8</th>\n",
       "      <th>feat_9</th>\n",
       "      <th>...</th>\n",
       "      <th>feat_85</th>\n",
       "      <th>feat_86</th>\n",
       "      <th>feat_87</th>\n",
       "      <th>feat_88</th>\n",
       "      <th>feat_89</th>\n",
       "      <th>feat_90</th>\n",
       "      <th>feat_91</th>\n",
       "      <th>feat_92</th>\n",
       "      <th>feat_93</th>\n",
       "      <th>target</th>\n",
       "    </tr>\n",
       "  </thead>\n",
       "  <tbody>\n",
       "    <tr>\n",
       "      <th>0</th>\n",
       "      <td>1</td>\n",
       "      <td>1</td>\n",
       "      <td>0</td>\n",
       "      <td>0</td>\n",
       "      <td>0</td>\n",
       "      <td>0</td>\n",
       "      <td>0</td>\n",
       "      <td>0</td>\n",
       "      <td>0</td>\n",
       "      <td>0</td>\n",
       "      <td>...</td>\n",
       "      <td>1</td>\n",
       "      <td>0</td>\n",
       "      <td>0</td>\n",
       "      <td>0</td>\n",
       "      <td>0</td>\n",
       "      <td>0</td>\n",
       "      <td>0</td>\n",
       "      <td>0</td>\n",
       "      <td>0</td>\n",
       "      <td>Class_1</td>\n",
       "    </tr>\n",
       "    <tr>\n",
       "      <th>1</th>\n",
       "      <td>2</td>\n",
       "      <td>0</td>\n",
       "      <td>0</td>\n",
       "      <td>0</td>\n",
       "      <td>0</td>\n",
       "      <td>0</td>\n",
       "      <td>0</td>\n",
       "      <td>0</td>\n",
       "      <td>1</td>\n",
       "      <td>0</td>\n",
       "      <td>...</td>\n",
       "      <td>0</td>\n",
       "      <td>0</td>\n",
       "      <td>0</td>\n",
       "      <td>0</td>\n",
       "      <td>0</td>\n",
       "      <td>0</td>\n",
       "      <td>0</td>\n",
       "      <td>0</td>\n",
       "      <td>0</td>\n",
       "      <td>Class_1</td>\n",
       "    </tr>\n",
       "    <tr>\n",
       "      <th>2</th>\n",
       "      <td>3</td>\n",
       "      <td>0</td>\n",
       "      <td>0</td>\n",
       "      <td>0</td>\n",
       "      <td>0</td>\n",
       "      <td>0</td>\n",
       "      <td>0</td>\n",
       "      <td>0</td>\n",
       "      <td>1</td>\n",
       "      <td>0</td>\n",
       "      <td>...</td>\n",
       "      <td>0</td>\n",
       "      <td>0</td>\n",
       "      <td>0</td>\n",
       "      <td>0</td>\n",
       "      <td>0</td>\n",
       "      <td>0</td>\n",
       "      <td>0</td>\n",
       "      <td>0</td>\n",
       "      <td>0</td>\n",
       "      <td>Class_1</td>\n",
       "    </tr>\n",
       "    <tr>\n",
       "      <th>3</th>\n",
       "      <td>4</td>\n",
       "      <td>1</td>\n",
       "      <td>0</td>\n",
       "      <td>0</td>\n",
       "      <td>1</td>\n",
       "      <td>6</td>\n",
       "      <td>1</td>\n",
       "      <td>5</td>\n",
       "      <td>0</td>\n",
       "      <td>0</td>\n",
       "      <td>...</td>\n",
       "      <td>0</td>\n",
       "      <td>1</td>\n",
       "      <td>2</td>\n",
       "      <td>0</td>\n",
       "      <td>0</td>\n",
       "      <td>0</td>\n",
       "      <td>0</td>\n",
       "      <td>0</td>\n",
       "      <td>0</td>\n",
       "      <td>Class_1</td>\n",
       "    </tr>\n",
       "    <tr>\n",
       "      <th>4</th>\n",
       "      <td>5</td>\n",
       "      <td>0</td>\n",
       "      <td>0</td>\n",
       "      <td>0</td>\n",
       "      <td>0</td>\n",
       "      <td>0</td>\n",
       "      <td>0</td>\n",
       "      <td>0</td>\n",
       "      <td>0</td>\n",
       "      <td>0</td>\n",
       "      <td>...</td>\n",
       "      <td>1</td>\n",
       "      <td>0</td>\n",
       "      <td>0</td>\n",
       "      <td>0</td>\n",
       "      <td>0</td>\n",
       "      <td>1</td>\n",
       "      <td>0</td>\n",
       "      <td>0</td>\n",
       "      <td>0</td>\n",
       "      <td>Class_1</td>\n",
       "    </tr>\n",
       "  </tbody>\n",
       "</table>\n",
       "<p>5 rows × 95 columns</p>\n",
       "</div>"
      ],
      "text/plain": [
       "   id  feat_1  feat_2  feat_3  feat_4  feat_5  feat_6  feat_7  feat_8  feat_9  \\\n",
       "0   1       1       0       0       0       0       0       0       0       0   \n",
       "1   2       0       0       0       0       0       0       0       1       0   \n",
       "2   3       0       0       0       0       0       0       0       1       0   \n",
       "3   4       1       0       0       1       6       1       5       0       0   \n",
       "4   5       0       0       0       0       0       0       0       0       0   \n",
       "\n",
       "   ...  feat_85  feat_86  feat_87  feat_88  feat_89  feat_90  feat_91  \\\n",
       "0  ...        1        0        0        0        0        0        0   \n",
       "1  ...        0        0        0        0        0        0        0   \n",
       "2  ...        0        0        0        0        0        0        0   \n",
       "3  ...        0        1        2        0        0        0        0   \n",
       "4  ...        1        0        0        0        0        1        0   \n",
       "\n",
       "   feat_92  feat_93   target  \n",
       "0        0        0  Class_1  \n",
       "1        0        0  Class_1  \n",
       "2        0        0  Class_1  \n",
       "3        0        0  Class_1  \n",
       "4        0        0  Class_1  \n",
       "\n",
       "[5 rows x 95 columns]"
      ]
     },
     "execution_count": 3,
     "metadata": {},
     "output_type": "execute_result"
    }
   ],
   "source": [
    "data = pd.read_csv(otto)\n",
    "data.head()"
   ]
  },
  {
   "cell_type": "code",
   "execution_count": 4,
   "metadata": {
    "id": "mOiZu0eVz4_1"
   },
   "outputs": [
    {
     "name": "stderr",
     "output_type": "stream",
     "text": [
      "C:\\Users\\Alchemist\\anaconda3\\envs\\tflow\\lib\\site-packages\\xgboost\\sklearn.py:1224: UserWarning: The use of label encoder in XGBClassifier is deprecated and will be removed in a future release. To remove this warning, do the following: 1) Pass option use_label_encoder=False when constructing XGBClassifier object; and 2) Encode your labels (y) as integers starting with 0, i.e. 0, 1, 2, ..., [num_class - 1].\n",
      "  warnings.warn(label_encoder_deprecation_msg, UserWarning)\n"
     ]
    },
    {
     "name": "stdout",
     "output_type": "stream",
     "text": [
      "[15:39:28] WARNING: C:/Users/Administrator/workspace/xgboost-win64_release_1.5.1/src/learner.cc:1115: Starting in XGBoost 1.3.0, the default evaluation metric used with the objective 'multi:softprob' was changed from 'merror' to 'mlogloss'. Explicitly set eval_metric if you'd like to restore the old behavior.\n"
     ]
    }
   ],
   "source": [
    "X, y = data.iloc[:, :-1], data.iloc[:, -1]\n",
    "encoded_y = LabelEncoder().fit_transform(y)\n",
    "model = XGBClassifier()\n",
    "learning_rate = [0.0001, 0.001, 0.01, 0.1, 0.2, 0.3]\n",
    "param_grid = dict(learning_rate=learning_rate)\n",
    "cv = StratifiedKFold(n_splits=10, shuffle=True, random_state=42)\n",
    "grid_search = GridSearchCV(model, param_grid, cv=cv, scoring='neg_log_loss', n_jobs=-1, error_score='raise')\n",
    "grid_result = grid_search.fit(X, encoded_y)"
   ]
  },
  {
   "cell_type": "code",
   "execution_count": 8,
   "metadata": {
    "id": "--r_giVaPUaq"
   },
   "outputs": [
    {
     "name": "stdout",
     "output_type": "stream",
     "text": [
      "Best score: -0.001123 using {'learning_rate': 0.3}\n"
     ]
    }
   ],
   "source": [
    "print(f\"Best score: {grid_result.best_score_:.6f} using {grid_result.best_params_}\")"
   ]
  },
  {
   "cell_type": "code",
   "execution_count": 9,
   "metadata": {
    "id": "ELElNvZiS1z9"
   },
   "outputs": [
    {
     "name": "stdout",
     "output_type": "stream",
     "text": [
      "-2.153328884698531, 1.4730854947436959e-05 with {'learning_rate': 0.0001}\n",
      "-1.8273750862510816, 0.00011600745858799393 with {'learning_rate': 0.001}\n",
      "-0.5905320396684486, 0.0004006404056515749 with {'learning_rate': 0.01}\n",
      "-0.0012208723393671921, 0.0014795213450884022 with {'learning_rate': 0.1}\n",
      "-0.001133491356330349, 0.001472760857186648 with {'learning_rate': 0.2}\n",
      "-0.0011232789512893354, 0.001497247497994326 with {'learning_rate': 0.3}\n"
     ]
    }
   ],
   "source": [
    "means = grid_result.cv_results_['mean_test_score']\n",
    "stds = grid_result.cv_results_['std_test_score']\n",
    "params = grid_result.cv_results_['params']\n",
    "for mean, std, param in zip(means, stds, params):\n",
    "    print(f\"{mean}, {std} with {param}\") "
   ]
  },
  {
   "cell_type": "code",
   "execution_count": 12,
   "metadata": {
    "id": "V45oZrXqaKlD"
   },
   "outputs": [
    {
     "data": {
      "image/png": "[encoded data removed]",
      "text/plain": [
       "<Figure size 432x288 with 1 Axes>"
      ]
     },
     "metadata": {
      "needs_background": "light"
     },
     "output_type": "display_data"
    }
   ],
   "source": [
    "plt.errorbar(learning_rate, means, yerr=stds)\n",
    "plt.xlabel('Learning rate')\n",
    "plt.ylabel('Log loss')\n",
    "plt.title('XGBoost learning rate vs log loss')\n",
    "plt.show()"
   ]
  },
  {
   "cell_type": "markdown",
   "metadata": {},
   "source": [
    "## 2. Tuning learning rate and number of trees in XGBoost"
   ]
  },
  {
   "cell_type": "code",
   "execution_count": 14,
   "metadata": {},
   "outputs": [
    {
     "name": "stderr",
     "output_type": "stream",
     "text": [
      "C:\\Users\\Alchemist\\anaconda3\\envs\\tflow\\lib\\site-packages\\xgboost\\sklearn.py:1224: UserWarning: The use of label encoder in XGBClassifier is deprecated and will be removed in a future release. To remove this warning, do the following: 1) Pass option use_label_encoder=False when constructing XGBClassifier object; and 2) Encode your labels (y) as integers starting with 0, i.e. 0, 1, 2, ..., [num_class - 1].\n",
      "  warnings.warn(label_encoder_deprecation_msg, UserWarning)\n"
     ]
    },
    {
     "name": "stdout",
     "output_type": "stream",
     "text": [
      "[16:40:25] WARNING: C:/Users/Administrator/workspace/xgboost-win64_release_1.5.1/src/learner.cc:576: \n",
      "Parameters: { \"n_estimator\" } might not be used.\n",
      "\n",
      "  This could be a false alarm, with some parameters getting used by language bindings but\n",
      "  then being mistakenly passed down to XGBoost core, or some parameter actually being used\n",
      "  but getting flagged wrongly here. Please open an issue if you find any such cases.\n",
      "\n",
      "\n",
      "[16:40:26] WARNING: C:/Users/Administrator/workspace/xgboost-win64_release_1.5.1/src/learner.cc:1115: Starting in XGBoost 1.3.0, the default evaluation metric used with the objective 'multi:softprob' was changed from 'merror' to 'mlogloss'. Explicitly set eval_metric if you'd like to restore the old behavior.\n"
     ]
    }
   ],
   "source": [
    "data = pd.read_csv(otto)\n",
    "X, y = data.iloc[:, :-1], data.iloc[:, -1]\n",
    "le = LabelEncoder()\n",
    "encoded_y = le.fit_transform(y)\n",
    "model = XGBClassifier()\n",
    "learning_rate = [0.001, 0.01, 0.1]\n",
    "n_estimator = [100, 300, 500]\n",
    "param_grid = dict(learning_rate=learning_rate, n_estimator=n_estimator)\n",
    "cv = StratifiedKFold(n_splits=10, shuffle=True, random_state=42)\n",
    "grid_search = GridSearchCV(model, param_grid, cv=cv, scoring='neg_log_loss', n_jobs=-1, error_score='raise')\n",
    "grid_result = grid_search.fit(X, encoded_y)"
   ]
  },
  {
   "cell_type": "code",
   "execution_count": 15,
   "metadata": {},
   "outputs": [
    {
     "name": "stdout",
     "output_type": "stream",
     "text": [
      "Best score: -0.001221 with {'learning_rate': 0.1, 'n_estimator': 100}\n"
     ]
    }
   ],
   "source": [
    "print(f\"Best score: {grid_result.best_score_:.6f} with {grid_result.best_params_}\")"
   ]
  },
  {
   "cell_type": "code",
   "execution_count": 16,
   "metadata": {},
   "outputs": [
    {
     "name": "stdout",
     "output_type": "stream",
     "text": [
      "[-1.82737509e+00 -1.82737509e+00 -1.82737509e+00 -5.90532040e-01\n",
      " -5.90532040e-01 -5.90532040e-01 -1.22087234e-03 -1.22087234e-03\n",
      " -1.22087234e-03], [0.00011601 0.00011601 0.00011601 0.00040064 0.00040064 0.00040064\n",
      " 0.00147952 0.00147952 0.00147952] with [{'learning_rate': 0.001, 'n_estimator': 100}, {'learning_rate': 0.001, 'n_estimator': 300}, {'learning_rate': 0.001, 'n_estimator': 500}, {'learning_rate': 0.01, 'n_estimator': 100}, {'learning_rate': 0.01, 'n_estimator': 300}, {'learning_rate': 0.01, 'n_estimator': 500}, {'learning_rate': 0.1, 'n_estimator': 100}, {'learning_rate': 0.1, 'n_estimator': 300}, {'learning_rate': 0.1, 'n_estimator': 500}]\n",
      "[-1.82737509e+00 -1.82737509e+00 -1.82737509e+00 -5.90532040e-01\n",
      " -5.90532040e-01 -5.90532040e-01 -1.22087234e-03 -1.22087234e-03\n",
      " -1.22087234e-03], [0.00011601 0.00011601 0.00011601 0.00040064 0.00040064 0.00040064\n",
      " 0.00147952 0.00147952 0.00147952] with [{'learning_rate': 0.001, 'n_estimator': 100}, {'learning_rate': 0.001, 'n_estimator': 300}, {'learning_rate': 0.001, 'n_estimator': 500}, {'learning_rate': 0.01, 'n_estimator': 100}, {'learning_rate': 0.01, 'n_estimator': 300}, {'learning_rate': 0.01, 'n_estimator': 500}, {'learning_rate': 0.1, 'n_estimator': 100}, {'learning_rate': 0.1, 'n_estimator': 300}, {'learning_rate': 0.1, 'n_estimator': 500}]\n",
      "[-1.82737509e+00 -1.82737509e+00 -1.82737509e+00 -5.90532040e-01\n",
      " -5.90532040e-01 -5.90532040e-01 -1.22087234e-03 -1.22087234e-03\n",
      " -1.22087234e-03], [0.00011601 0.00011601 0.00011601 0.00040064 0.00040064 0.00040064\n",
      " 0.00147952 0.00147952 0.00147952] with [{'learning_rate': 0.001, 'n_estimator': 100}, {'learning_rate': 0.001, 'n_estimator': 300}, {'learning_rate': 0.001, 'n_estimator': 500}, {'learning_rate': 0.01, 'n_estimator': 100}, {'learning_rate': 0.01, 'n_estimator': 300}, {'learning_rate': 0.01, 'n_estimator': 500}, {'learning_rate': 0.1, 'n_estimator': 100}, {'learning_rate': 0.1, 'n_estimator': 300}, {'learning_rate': 0.1, 'n_estimator': 500}]\n",
      "[-1.82737509e+00 -1.82737509e+00 -1.82737509e+00 -5.90532040e-01\n",
      " -5.90532040e-01 -5.90532040e-01 -1.22087234e-03 -1.22087234e-03\n",
      " -1.22087234e-03], [0.00011601 0.00011601 0.00011601 0.00040064 0.00040064 0.00040064\n",
      " 0.00147952 0.00147952 0.00147952] with [{'learning_rate': 0.001, 'n_estimator': 100}, {'learning_rate': 0.001, 'n_estimator': 300}, {'learning_rate': 0.001, 'n_estimator': 500}, {'learning_rate': 0.01, 'n_estimator': 100}, {'learning_rate': 0.01, 'n_estimator': 300}, {'learning_rate': 0.01, 'n_estimator': 500}, {'learning_rate': 0.1, 'n_estimator': 100}, {'learning_rate': 0.1, 'n_estimator': 300}, {'learning_rate': 0.1, 'n_estimator': 500}]\n",
      "[-1.82737509e+00 -1.82737509e+00 -1.82737509e+00 -5.90532040e-01\n",
      " -5.90532040e-01 -5.90532040e-01 -1.22087234e-03 -1.22087234e-03\n",
      " -1.22087234e-03], [0.00011601 0.00011601 0.00011601 0.00040064 0.00040064 0.00040064\n",
      " 0.00147952 0.00147952 0.00147952] with [{'learning_rate': 0.001, 'n_estimator': 100}, {'learning_rate': 0.001, 'n_estimator': 300}, {'learning_rate': 0.001, 'n_estimator': 500}, {'learning_rate': 0.01, 'n_estimator': 100}, {'learning_rate': 0.01, 'n_estimator': 300}, {'learning_rate': 0.01, 'n_estimator': 500}, {'learning_rate': 0.1, 'n_estimator': 100}, {'learning_rate': 0.1, 'n_estimator': 300}, {'learning_rate': 0.1, 'n_estimator': 500}]\n",
      "[-1.82737509e+00 -1.82737509e+00 -1.82737509e+00 -5.90532040e-01\n",
      " -5.90532040e-01 -5.90532040e-01 -1.22087234e-03 -1.22087234e-03\n",
      " -1.22087234e-03], [0.00011601 0.00011601 0.00011601 0.00040064 0.00040064 0.00040064\n",
      " 0.00147952 0.00147952 0.00147952] with [{'learning_rate': 0.001, 'n_estimator': 100}, {'learning_rate': 0.001, 'n_estimator': 300}, {'learning_rate': 0.001, 'n_estimator': 500}, {'learning_rate': 0.01, 'n_estimator': 100}, {'learning_rate': 0.01, 'n_estimator': 300}, {'learning_rate': 0.01, 'n_estimator': 500}, {'learning_rate': 0.1, 'n_estimator': 100}, {'learning_rate': 0.1, 'n_estimator': 300}, {'learning_rate': 0.1, 'n_estimator': 500}]\n",
      "[-1.82737509e+00 -1.82737509e+00 -1.82737509e+00 -5.90532040e-01\n",
      " -5.90532040e-01 -5.90532040e-01 -1.22087234e-03 -1.22087234e-03\n",
      " -1.22087234e-03], [0.00011601 0.00011601 0.00011601 0.00040064 0.00040064 0.00040064\n",
      " 0.00147952 0.00147952 0.00147952] with [{'learning_rate': 0.001, 'n_estimator': 100}, {'learning_rate': 0.001, 'n_estimator': 300}, {'learning_rate': 0.001, 'n_estimator': 500}, {'learning_rate': 0.01, 'n_estimator': 100}, {'learning_rate': 0.01, 'n_estimator': 300}, {'learning_rate': 0.01, 'n_estimator': 500}, {'learning_rate': 0.1, 'n_estimator': 100}, {'learning_rate': 0.1, 'n_estimator': 300}, {'learning_rate': 0.1, 'n_estimator': 500}]\n",
      "[-1.82737509e+00 -1.82737509e+00 -1.82737509e+00 -5.90532040e-01\n",
      " -5.90532040e-01 -5.90532040e-01 -1.22087234e-03 -1.22087234e-03\n",
      " -1.22087234e-03], [0.00011601 0.00011601 0.00011601 0.00040064 0.00040064 0.00040064\n",
      " 0.00147952 0.00147952 0.00147952] with [{'learning_rate': 0.001, 'n_estimator': 100}, {'learning_rate': 0.001, 'n_estimator': 300}, {'learning_rate': 0.001, 'n_estimator': 500}, {'learning_rate': 0.01, 'n_estimator': 100}, {'learning_rate': 0.01, 'n_estimator': 300}, {'learning_rate': 0.01, 'n_estimator': 500}, {'learning_rate': 0.1, 'n_estimator': 100}, {'learning_rate': 0.1, 'n_estimator': 300}, {'learning_rate': 0.1, 'n_estimator': 500}]\n",
      "[-1.82737509e+00 -1.82737509e+00 -1.82737509e+00 -5.90532040e-01\n",
      " -5.90532040e-01 -5.90532040e-01 -1.22087234e-03 -1.22087234e-03\n",
      " -1.22087234e-03], [0.00011601 0.00011601 0.00011601 0.00040064 0.00040064 0.00040064\n",
      " 0.00147952 0.00147952 0.00147952] with [{'learning_rate': 0.001, 'n_estimator': 100}, {'learning_rate': 0.001, 'n_estimator': 300}, {'learning_rate': 0.001, 'n_estimator': 500}, {'learning_rate': 0.01, 'n_estimator': 100}, {'learning_rate': 0.01, 'n_estimator': 300}, {'learning_rate': 0.01, 'n_estimator': 500}, {'learning_rate': 0.1, 'n_estimator': 100}, {'learning_rate': 0.1, 'n_estimator': 300}, {'learning_rate': 0.1, 'n_estimator': 500}]\n"
     ]
    }
   ],
   "source": [
    "means = grid_result.cv_results_['mean_test_score']\n",
    "stds = grid_result.cv_results_['std_test_score']\n",
    "params = grid_result.cv_results_['params']\n",
    "for mean, std, param in zip(means, stds, params):\n",
    "    print(f\"{means}, {stds} with {params}\")"
   ]
  },
  {
   "cell_type": "code",
   "execution_count": 18,
   "metadata": {},
   "outputs": [
    {
     "data": {
      "image/png": "[encoded data removed]",
      "text/plain": [
       "<Figure size 432x288 with 1 Axes>"
      ]
     },
     "metadata": {
      "needs_background": "light"
     },
     "output_type": "display_data"
    }
   ],
   "source": [
    "scores = np.array(means).reshape(len(learning_rate), len(n_estimator))\n",
    "for i, value in enumerate(learning_rate):\n",
    "    plt.plot(n_estimator, scores[i], label='learning_rate'+str(value))\n",
    "plt.legend()\n",
    "plt.xlabel('n_estimator')\n",
    "plt.ylabel('Log loss')\n",
    "plt.title('n_estimator vs Log loss in XGBoost')\n",
    "plt.show()"
   ]
  },
  {
   "cell_type": "code",
   "execution_count": null,
   "metadata": {},
   "outputs": [],
   "source": []
  }
 ],
 "metadata": {
  "colab": {
   "provenance": []
  },
  "hide_input": false,
  "kernelspec": {
   "display_name": "Python 3",
   "language": "python",
   "name": "python3"
  },
  "language_info": {
   "codemirror_mode": {
    "name": "ipython",
    "version": 3
   },
   "file_extension": ".py",
   "mimetype": "text/x-python",
   "name": "python",
   "nbconvert_exporter": "python",
   "pygments_lexer": "ipython3",
   "version": "3.8.10"
  },
  "varInspector": {
   "cols": {
    "lenName": 16,
    "lenType": 16,
    "lenVar": 40
   },
   "kernels_config": {
    "python": {
     "delete_cmd_postfix": "",
     "delete_cmd_prefix": "del ",
     "library": "var_list.py",
     "varRefreshCmd": "print(var_dic_list())"
    },
    "r": {
     "delete_cmd_postfix": ") ",
     "delete_cmd_prefix": "rm(",
     "library": "var_list.r",
     "varRefreshCmd": "cat(var_dic_list()) "
    }
   },
   "types_to_exclude": [
    "module",
    "function",
    "builtin_function_or_method",
    "instance",
    "_Feature"
   ],
   "window_display": false
  }
 },
 "nbformat": 4,
 "nbformat_minor": 1
}
