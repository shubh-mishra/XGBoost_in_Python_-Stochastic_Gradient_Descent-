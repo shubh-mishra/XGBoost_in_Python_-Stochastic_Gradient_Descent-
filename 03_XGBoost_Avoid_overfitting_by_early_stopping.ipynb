{
  "nbformat": 4,
  "nbformat_minor": 0,
  "metadata": {
    "colab": {
      "provenance": []
    },
    "kernelspec": {
      "name": "python3",
      "display_name": "Python 3"
    },
    "language_info": {
      "name": "python"
    }
  },
  "cells": [
    {
      "cell_type": "markdown",
      "source": [
        "# Avoid Overfitting By Early Stopping With XGBoost"
      ],
      "metadata": {
        "id": "QAuraU30E8c3"
      }
    },
    {
      "cell_type": "markdown",
      "source": [
        "## 0. Introduction\n",
        "\n",
        "This notebook contains:\n",
        "  1. Monitoring training performance with XGBoost\n",
        "  2. Evaluate XGBoost model with learning curves\n",
        "  3. Early stopping with XGBoost"
      ],
      "metadata": {
        "id": "KV166PVRJWoe"
      }
    },
    {
      "cell_type": "code",
      "execution_count": 1,
      "metadata": {
        "id": "Pnf7ubYCE3x8"
      },
      "outputs": [],
      "source": [
        "import pandas as pd\n",
        "import numpy as np\n",
        "import matplotlib.pyplot as plt\n",
        "from xgboost import XGBClassifier\n",
        "from sklearn.model_selection import train_test_split\n",
        "from sklearn.metrics import accuracy_score"
      ]
    },
    {
      "cell_type": "code",
      "source": [
        "pima = \"https://raw.githubusercontent.com/jbrownlee/Datasets/master/pima-indians-diabetes.csv\""
      ],
      "metadata": {
        "id": "8x8KUf0TQP81"
      },
      "execution_count": 2,
      "outputs": []
    },
    {
      "cell_type": "markdown",
      "source": [
        "## 1. Monitoring training performance with XGBoost"
      ],
      "metadata": {
        "id": "3CiF8rI2Qh8w"
      }
    },
    {
      "cell_type": "code",
      "source": [
        "data = pd.read_csv(pima, header=None)\n",
        "data.head()"
      ],
      "metadata": {
        "colab": {
          "base_uri": "https://localhost:8080/",
          "height": 206
        },
        "id": "vDvS1xO-QefH",
        "outputId": "8bf99c9b-c2a9-479c-fa99-f57035370d8a"
      },
      "execution_count": 3,
      "outputs": [
        {
          "output_type": "execute_result",
          "data": {
            "text/plain": [
              "   0    1   2   3    4     5      6   7  8\n",
              "0  6  148  72  35    0  33.6  0.627  50  1\n",
              "1  1   85  66  29    0  26.6  0.351  31  0\n",
              "2  8  183  64   0    0  23.3  0.672  32  1\n",
              "3  1   89  66  23   94  28.1  0.167  21  0\n",
              "4  0  137  40  35  168  43.1  2.288  33  1"
            ],
            "text/html": [
              "\n",
              "  <div id=\"df-dcf20f69-3eb6-4956-a2fd-b35d5bab3c38\">\n",
              "    <div class=\"colab-df-container\">\n",
              "      <div>\n",
              "<style scoped>\n",
              "    .dataframe tbody tr th:only-of-type {\n",
              "        vertical-align: middle;\n",
              "    }\n",
              "\n",
              "    .dataframe tbody tr th {\n",
              "        vertical-align: top;\n",
              "    }\n",
              "\n",
              "    .dataframe thead th {\n",
              "        text-align: right;\n",
              "    }\n",
              "</style>\n",
              "<table border=\"1\" class=\"dataframe\">\n",
              "  <thead>\n",
              "    <tr style=\"text-align: right;\">\n",
              "      <th></th>\n",
              "      <th>0</th>\n",
              "      <th>1</th>\n",
              "      <th>2</th>\n",
              "      <th>3</th>\n",
              "      <th>4</th>\n",
              "      <th>5</th>\n",
              "      <th>6</th>\n",
              "      <th>7</th>\n",
              "      <th>8</th>\n",
              "    </tr>\n",
              "  </thead>\n",
              "  <tbody>\n",
              "    <tr>\n",
              "      <th>0</th>\n",
              "      <td>6</td>\n",
              "      <td>148</td>\n",
              "      <td>72</td>\n",
              "      <td>35</td>\n",
              "      <td>0</td>\n",
              "      <td>33.6</td>\n",
              "      <td>0.627</td>\n",
              "      <td>50</td>\n",
              "      <td>1</td>\n",
              "    </tr>\n",
              "    <tr>\n",
              "      <th>1</th>\n",
              "      <td>1</td>\n",
              "      <td>85</td>\n",
              "      <td>66</td>\n",
              "      <td>29</td>\n",
              "      <td>0</td>\n",
              "      <td>26.6</td>\n",
              "      <td>0.351</td>\n",
              "      <td>31</td>\n",
              "      <td>0</td>\n",
              "    </tr>\n",
              "    <tr>\n",
              "      <th>2</th>\n",
              "      <td>8</td>\n",
              "      <td>183</td>\n",
              "      <td>64</td>\n",
              "      <td>0</td>\n",
              "      <td>0</td>\n",
              "      <td>23.3</td>\n",
              "      <td>0.672</td>\n",
              "      <td>32</td>\n",
              "      <td>1</td>\n",
              "    </tr>\n",
              "    <tr>\n",
              "      <th>3</th>\n",
              "      <td>1</td>\n",
              "      <td>89</td>\n",
              "      <td>66</td>\n",
              "      <td>23</td>\n",
              "      <td>94</td>\n",
              "      <td>28.1</td>\n",
              "      <td>0.167</td>\n",
              "      <td>21</td>\n",
              "      <td>0</td>\n",
              "    </tr>\n",
              "    <tr>\n",
              "      <th>4</th>\n",
              "      <td>0</td>\n",
              "      <td>137</td>\n",
              "      <td>40</td>\n",
              "      <td>35</td>\n",
              "      <td>168</td>\n",
              "      <td>43.1</td>\n",
              "      <td>2.288</td>\n",
              "      <td>33</td>\n",
              "      <td>1</td>\n",
              "    </tr>\n",
              "  </tbody>\n",
              "</table>\n",
              "</div>\n",
              "      <button class=\"colab-df-convert\" onclick=\"convertToInteractive('df-dcf20f69-3eb6-4956-a2fd-b35d5bab3c38')\"\n",
              "              title=\"Convert this dataframe to an interactive table.\"\n",
              "              style=\"display:none;\">\n",
              "        \n",
              "  <svg xmlns=\"http://www.w3.org/2000/svg\" height=\"24px\"viewBox=\"0 0 24 24\"\n",
              "       width=\"24px\">\n",
              "    <path d=\"M0 0h24v24H0V0z\" fill=\"none\"/>\n",
              "    <path d=\"M18.56 5.44l.94 2.06.94-2.06 2.06-.94-2.06-.94-.94-2.06-.94 2.06-2.06.94zm-11 1L8.5 8.5l.94-2.06 2.06-.94-2.06-.94L8.5 2.5l-.94 2.06-2.06.94zm10 10l.94 2.06.94-2.06 2.06-.94-2.06-.94-.94-2.06-.94 2.06-2.06.94z\"/><path d=\"M17.41 7.96l-1.37-1.37c-.4-.4-.92-.59-1.43-.59-.52 0-1.04.2-1.43.59L10.3 9.45l-7.72 7.72c-.78.78-.78 2.05 0 2.83L4 21.41c.39.39.9.59 1.41.59.51 0 1.02-.2 1.41-.59l7.78-7.78 2.81-2.81c.8-.78.8-2.07 0-2.86zM5.41 20L4 18.59l7.72-7.72 1.47 1.35L5.41 20z\"/>\n",
              "  </svg>\n",
              "      </button>\n",
              "      \n",
              "  <style>\n",
              "    .colab-df-container {\n",
              "      display:flex;\n",
              "      flex-wrap:wrap;\n",
              "      gap: 12px;\n",
              "    }\n",
              "\n",
              "    .colab-df-convert {\n",
              "      background-color: #E8F0FE;\n",
              "      border: none;\n",
              "      border-radius: 50%;\n",
              "      cursor: pointer;\n",
              "      display: none;\n",
              "      fill: #1967D2;\n",
              "      height: 32px;\n",
              "      padding: 0 0 0 0;\n",
              "      width: 32px;\n",
              "    }\n",
              "\n",
              "    .colab-df-convert:hover {\n",
              "      background-color: #E2EBFA;\n",
              "      box-shadow: 0px 1px 2px rgba(60, 64, 67, 0.3), 0px 1px 3px 1px rgba(60, 64, 67, 0.15);\n",
              "      fill: #174EA6;\n",
              "    }\n",
              "\n",
              "    [theme=dark] .colab-df-convert {\n",
              "      background-color: #3B4455;\n",
              "      fill: #D2E3FC;\n",
              "    }\n",
              "\n",
              "    [theme=dark] .colab-df-convert:hover {\n",
              "      background-color: #434B5C;\n",
              "      box-shadow: 0px 1px 3px 1px rgba(0, 0, 0, 0.15);\n",
              "      filter: drop-shadow(0px 1px 2px rgba(0, 0, 0, 0.3));\n",
              "      fill: #FFFFFF;\n",
              "    }\n",
              "  </style>\n",
              "\n",
              "      <script>\n",
              "        const buttonEl =\n",
              "          document.querySelector('#df-dcf20f69-3eb6-4956-a2fd-b35d5bab3c38 button.colab-df-convert');\n",
              "        buttonEl.style.display =\n",
              "          google.colab.kernel.accessAllowed ? 'block' : 'none';\n",
              "\n",
              "        async function convertToInteractive(key) {\n",
              "          const element = document.querySelector('#df-dcf20f69-3eb6-4956-a2fd-b35d5bab3c38');\n",
              "          const dataTable =\n",
              "            await google.colab.kernel.invokeFunction('convertToInteractive',\n",
              "                                                     [key], {});\n",
              "          if (!dataTable) return;\n",
              "\n",
              "          const docLinkHtml = 'Like what you see? Visit the ' +\n",
              "            '<a target=\"_blank\" href=https://colab.research.google.com/notebooks/data_table.ipynb>data table notebook</a>'\n",
              "            + ' to learn more about interactive tables.';\n",
              "          element.innerHTML = '';\n",
              "          dataTable['output_type'] = 'display_data';\n",
              "          await google.colab.output.renderOutput(dataTable, element);\n",
              "          const docLink = document.createElement('div');\n",
              "          docLink.innerHTML = docLinkHtml;\n",
              "          element.appendChild(docLink);\n",
              "        }\n",
              "      </script>\n",
              "    </div>\n",
              "  </div>\n",
              "  "
            ]
          },
          "metadata": {},
          "execution_count": 3
        }
      ]
    },
    {
      "cell_type": "code",
      "source": [
        "X, y = data.iloc[:, :-1], data.iloc[:, -1]\n",
        "X_train, X_test, y_train, y_test = train_test_split(X, y, test_size=0.2, random_state=42)\n",
        "model = XGBClassifier()\n",
        "eval_set = [(X_test, y_test)]\n",
        "model.fit(X_train, y_train, eval_metric='error', eval_set=eval_set, verbose=True)\n",
        "y_preds = model.predict(X_test)\n",
        "score = accuracy_score(y_test, y_preds)\n",
        "print(f\"Accuracy: {score*100:.2f}%\")"
      ],
      "metadata": {
        "colab": {
          "base_uri": "https://localhost:8080/"
        },
        "id": "UUgTljZlQ3VF",
        "outputId": "eca94dc3-e0bb-48d9-b7b2-4c4ec2c5eb7b"
      },
      "execution_count": 5,
      "outputs": [
        {
          "output_type": "stream",
          "name": "stdout",
          "text": [
            "[0]\tvalidation_0-error:0.26623\n",
            "[1]\tvalidation_0-error:0.24675\n",
            "[2]\tvalidation_0-error:0.24026\n",
            "[3]\tvalidation_0-error:0.24675\n",
            "[4]\tvalidation_0-error:0.26623\n",
            "[5]\tvalidation_0-error:0.24675\n",
            "[6]\tvalidation_0-error:0.25974\n",
            "[7]\tvalidation_0-error:0.25325\n",
            "[8]\tvalidation_0-error:0.26623\n",
            "[9]\tvalidation_0-error:0.26623\n",
            "[10]\tvalidation_0-error:0.26623\n",
            "[11]\tvalidation_0-error:0.27273\n",
            "[12]\tvalidation_0-error:0.26623\n",
            "[13]\tvalidation_0-error:0.26623\n",
            "[14]\tvalidation_0-error:0.29221\n",
            "[15]\tvalidation_0-error:0.27922\n",
            "[16]\tvalidation_0-error:0.29221\n",
            "[17]\tvalidation_0-error:0.29221\n",
            "[18]\tvalidation_0-error:0.28571\n",
            "[19]\tvalidation_0-error:0.28571\n",
            "[20]\tvalidation_0-error:0.29221\n",
            "[21]\tvalidation_0-error:0.29221\n",
            "[22]\tvalidation_0-error:0.29870\n",
            "[23]\tvalidation_0-error:0.29870\n",
            "[24]\tvalidation_0-error:0.29221\n",
            "[25]\tvalidation_0-error:0.29870\n",
            "[26]\tvalidation_0-error:0.29221\n",
            "[27]\tvalidation_0-error:0.30519\n",
            "[28]\tvalidation_0-error:0.31169\n",
            "[29]\tvalidation_0-error:0.30519\n",
            "[30]\tvalidation_0-error:0.30519\n"
          ]
        },
        {
          "output_type": "stream",
          "name": "stderr",
          "text": [
            "/usr/local/lib/python3.9/dist-packages/xgboost/sklearn.py:835: UserWarning: `eval_metric` in `fit` method is deprecated for better compatibility with scikit-learn, use `eval_metric` in constructor or`set_params` instead.\n",
            "  warnings.warn(\n"
          ]
        },
        {
          "output_type": "stream",
          "name": "stdout",
          "text": [
            "[31]\tvalidation_0-error:0.30519\n",
            "[32]\tvalidation_0-error:0.31169\n",
            "[33]\tvalidation_0-error:0.31169\n",
            "[34]\tvalidation_0-error:0.29870\n",
            "[35]\tvalidation_0-error:0.29870\n",
            "[36]\tvalidation_0-error:0.31818\n",
            "[37]\tvalidation_0-error:0.31818\n",
            "[38]\tvalidation_0-error:0.30519\n",
            "[39]\tvalidation_0-error:0.29870\n",
            "[40]\tvalidation_0-error:0.30519\n",
            "[41]\tvalidation_0-error:0.31169\n",
            "[42]\tvalidation_0-error:0.31818\n",
            "[43]\tvalidation_0-error:0.31818\n",
            "[44]\tvalidation_0-error:0.30519\n",
            "[45]\tvalidation_0-error:0.30519\n",
            "[46]\tvalidation_0-error:0.30519\n",
            "[47]\tvalidation_0-error:0.30519\n",
            "[48]\tvalidation_0-error:0.29870\n",
            "[49]\tvalidation_0-error:0.31818\n",
            "[50]\tvalidation_0-error:0.30519\n",
            "[51]\tvalidation_0-error:0.29870\n",
            "[52]\tvalidation_0-error:0.29870\n",
            "[53]\tvalidation_0-error:0.29870\n",
            "[54]\tvalidation_0-error:0.30519\n",
            "[55]\tvalidation_0-error:0.30519\n",
            "[56]\tvalidation_0-error:0.29870\n",
            "[57]\tvalidation_0-error:0.30519\n",
            "[58]\tvalidation_0-error:0.30519\n",
            "[59]\tvalidation_0-error:0.30519\n",
            "[60]\tvalidation_0-error:0.29870\n",
            "[61]\tvalidation_0-error:0.31169\n",
            "[62]\tvalidation_0-error:0.32468\n",
            "[63]\tvalidation_0-error:0.32468\n",
            "[64]\tvalidation_0-error:0.31818\n",
            "[65]\tvalidation_0-error:0.31818\n",
            "[66]\tvalidation_0-error:0.31818\n",
            "[67]\tvalidation_0-error:0.31818\n",
            "[68]\tvalidation_0-error:0.31818\n",
            "[69]\tvalidation_0-error:0.31818\n",
            "[70]\tvalidation_0-error:0.31818\n",
            "[71]\tvalidation_0-error:0.32468\n",
            "[72]\tvalidation_0-error:0.33117\n",
            "[73]\tvalidation_0-error:0.33117\n",
            "[74]\tvalidation_0-error:0.32468\n",
            "[75]\tvalidation_0-error:0.32468\n",
            "[76]\tvalidation_0-error:0.31818\n",
            "[77]\tvalidation_0-error:0.32468\n",
            "[78]\tvalidation_0-error:0.31818\n",
            "[79]\tvalidation_0-error:0.31818\n",
            "[80]\tvalidation_0-error:0.31818\n",
            "[81]\tvalidation_0-error:0.31818\n",
            "[82]\tvalidation_0-error:0.29870\n",
            "[83]\tvalidation_0-error:0.31169\n",
            "[84]\tvalidation_0-error:0.31169\n",
            "[85]\tvalidation_0-error:0.31818\n",
            "[86]\tvalidation_0-error:0.31169\n",
            "[87]\tvalidation_0-error:0.30519\n",
            "[88]\tvalidation_0-error:0.31169\n",
            "[89]\tvalidation_0-error:0.30519\n",
            "[90]\tvalidation_0-error:0.31169\n",
            "[91]\tvalidation_0-error:0.31169\n",
            "[92]\tvalidation_0-error:0.31169\n",
            "[93]\tvalidation_0-error:0.30519\n",
            "[94]\tvalidation_0-error:0.31169\n",
            "[95]\tvalidation_0-error:0.30519\n",
            "[96]\tvalidation_0-error:0.30519\n",
            "[97]\tvalidation_0-error:0.31169\n",
            "[98]\tvalidation_0-error:0.31169\n",
            "[99]\tvalidation_0-error:0.31169\n",
            "Accuracy: 68.83%\n"
          ]
        }
      ]
    },
    {
      "cell_type": "markdown",
      "source": [
        "## 2. Evaluate XGBoost with learning curve"
      ],
      "metadata": {
        "id": "2CmdI6v3Smrl"
      }
    },
    {
      "cell_type": "code",
      "source": [
        "data = pd.read_csv(pima, header=None)\n",
        "X, y = data.iloc[:, :-1], data.iloc[:, -1]\n",
        "X_train, X_test, y_train, y_test = train_test_split(X, y, test_size=0.2, random_state=42)\n",
        "model = XGBClassifier()\n",
        "eval_set = [(X_train, y_train), (X_test, y_test)]\n",
        "model.fit(X_train, y_train, eval_metric=['error', 'logloss'], eval_set=eval_set, verbose=True)\n",
        "y_preds = model.predict(X_test)\n",
        "score = accuracy_score(y_test, y_preds)\n",
        "print(f\"Accuracy: {score*100:.2f}%\")"
      ],
      "metadata": {
        "colab": {
          "base_uri": "https://localhost:8080/"
        },
        "id": "SfOPbG8TRi72",
        "outputId": "a5a28c12-e2f5-4bcd-f14e-dc4db0de8868"
      },
      "execution_count": 11,
      "outputs": [
        {
          "output_type": "stream",
          "name": "stdout",
          "text": [
            "[0]\tvalidation_0-error:0.14821\tvalidation_0-logloss:0.55351\tvalidation_1-error:0.26623\tvalidation_1-logloss:0.59011\n",
            "[1]\tvalidation_0-error:0.11889\tvalidation_0-logloss:0.46979\tvalidation_1-error:0.24675\tvalidation_1-logloss:0.54671\n",
            "[2]\tvalidation_0-error:0.11238\tvalidation_0-logloss:0.40937\tvalidation_1-error:0.24026\tvalidation_1-logloss:0.52319\n",
            "[3]\tvalidation_0-error:0.08958\tvalidation_0-logloss:0.37109\tvalidation_1-error:0.24675\tvalidation_1-logloss:0.50150\n",
            "[4]\tvalidation_0-error:0.08306\tvalidation_0-logloss:0.33005\tvalidation_1-error:0.26623\tvalidation_1-logloss:0.51085\n",
            "[5]\tvalidation_0-error:0.07492\tvalidation_0-logloss:0.29927\tvalidation_1-error:0.24675\tvalidation_1-logloss:0.49548\n",
            "[6]\tvalidation_0-error:0.06678\tvalidation_0-logloss:0.27624\tvalidation_1-error:0.25974\tvalidation_1-logloss:0.49588\n"
          ]
        },
        {
          "output_type": "stream",
          "name": "stderr",
          "text": [
            "/usr/local/lib/python3.9/dist-packages/xgboost/sklearn.py:835: UserWarning: `eval_metric` in `fit` method is deprecated for better compatibility with scikit-learn, use `eval_metric` in constructor or`set_params` instead.\n",
            "  warnings.warn(\n"
          ]
        },
        {
          "output_type": "stream",
          "name": "stdout",
          "text": [
            "[7]\tvalidation_0-error:0.06189\tvalidation_0-logloss:0.26149\tvalidation_1-error:0.25325\tvalidation_1-logloss:0.49676\n",
            "[8]\tvalidation_0-error:0.05375\tvalidation_0-logloss:0.24446\tvalidation_1-error:0.26623\tvalidation_1-logloss:0.50208\n",
            "[9]\tvalidation_0-error:0.04723\tvalidation_0-logloss:0.23354\tvalidation_1-error:0.26623\tvalidation_1-logloss:0.51131\n",
            "[10]\tvalidation_0-error:0.04235\tvalidation_0-logloss:0.21956\tvalidation_1-error:0.26623\tvalidation_1-logloss:0.51004\n",
            "[11]\tvalidation_0-error:0.03257\tvalidation_0-logloss:0.20757\tvalidation_1-error:0.27273\tvalidation_1-logloss:0.51456\n",
            "[12]\tvalidation_0-error:0.03094\tvalidation_0-logloss:0.19895\tvalidation_1-error:0.26623\tvalidation_1-logloss:0.52871\n",
            "[13]\tvalidation_0-error:0.02606\tvalidation_0-logloss:0.18684\tvalidation_1-error:0.26623\tvalidation_1-logloss:0.53347\n",
            "[14]\tvalidation_0-error:0.01792\tvalidation_0-logloss:0.17538\tvalidation_1-error:0.29221\tvalidation_1-logloss:0.54392\n",
            "[15]\tvalidation_0-error:0.01629\tvalidation_0-logloss:0.16648\tvalidation_1-error:0.27922\tvalidation_1-logloss:0.55110\n",
            "[16]\tvalidation_0-error:0.01303\tvalidation_0-logloss:0.15918\tvalidation_1-error:0.29221\tvalidation_1-logloss:0.56167\n",
            "[17]\tvalidation_0-error:0.01140\tvalidation_0-logloss:0.15342\tvalidation_1-error:0.29221\tvalidation_1-logloss:0.55959\n",
            "[18]\tvalidation_0-error:0.01303\tvalidation_0-logloss:0.14861\tvalidation_1-error:0.28571\tvalidation_1-logloss:0.56217\n",
            "[19]\tvalidation_0-error:0.01303\tvalidation_0-logloss:0.14360\tvalidation_1-error:0.28571\tvalidation_1-logloss:0.56557\n",
            "[20]\tvalidation_0-error:0.00977\tvalidation_0-logloss:0.13838\tvalidation_1-error:0.29221\tvalidation_1-logloss:0.57588\n",
            "[21]\tvalidation_0-error:0.00977\tvalidation_0-logloss:0.13031\tvalidation_1-error:0.29221\tvalidation_1-logloss:0.58654\n",
            "[22]\tvalidation_0-error:0.00651\tvalidation_0-logloss:0.12434\tvalidation_1-error:0.29870\tvalidation_1-logloss:0.59805\n",
            "[23]\tvalidation_0-error:0.00489\tvalidation_0-logloss:0.12264\tvalidation_1-error:0.29870\tvalidation_1-logloss:0.60095\n",
            "[24]\tvalidation_0-error:0.00489\tvalidation_0-logloss:0.12062\tvalidation_1-error:0.29221\tvalidation_1-logloss:0.60826\n",
            "[25]\tvalidation_0-error:0.00489\tvalidation_0-logloss:0.11532\tvalidation_1-error:0.29870\tvalidation_1-logloss:0.61575\n",
            "[26]\tvalidation_0-error:0.00489\tvalidation_0-logloss:0.11259\tvalidation_1-error:0.29221\tvalidation_1-logloss:0.61901\n",
            "[27]\tvalidation_0-error:0.00489\tvalidation_0-logloss:0.11071\tvalidation_1-error:0.30519\tvalidation_1-logloss:0.62255\n",
            "[28]\tvalidation_0-error:0.00163\tvalidation_0-logloss:0.10543\tvalidation_1-error:0.31169\tvalidation_1-logloss:0.62700\n",
            "[29]\tvalidation_0-error:0.00000\tvalidation_0-logloss:0.10003\tvalidation_1-error:0.30519\tvalidation_1-logloss:0.62440\n",
            "[30]\tvalidation_0-error:0.00000\tvalidation_0-logloss:0.09586\tvalidation_1-error:0.30519\tvalidation_1-logloss:0.63059\n",
            "[31]\tvalidation_0-error:0.00000\tvalidation_0-logloss:0.09347\tvalidation_1-error:0.30519\tvalidation_1-logloss:0.63911\n",
            "[32]\tvalidation_0-error:0.00163\tvalidation_0-logloss:0.09161\tvalidation_1-error:0.31169\tvalidation_1-logloss:0.65150\n",
            "[33]\tvalidation_0-error:0.00000\tvalidation_0-logloss:0.08818\tvalidation_1-error:0.31169\tvalidation_1-logloss:0.65559\n",
            "[34]\tvalidation_0-error:0.00000\tvalidation_0-logloss:0.08500\tvalidation_1-error:0.29870\tvalidation_1-logloss:0.65840\n",
            "[35]\tvalidation_0-error:0.00000\tvalidation_0-logloss:0.08297\tvalidation_1-error:0.29870\tvalidation_1-logloss:0.66202\n",
            "[36]\tvalidation_0-error:0.00000\tvalidation_0-logloss:0.07850\tvalidation_1-error:0.31818\tvalidation_1-logloss:0.67065\n",
            "[37]\tvalidation_0-error:0.00000\tvalidation_0-logloss:0.07660\tvalidation_1-error:0.31818\tvalidation_1-logloss:0.67558\n",
            "[38]\tvalidation_0-error:0.00000\tvalidation_0-logloss:0.07521\tvalidation_1-error:0.30519\tvalidation_1-logloss:0.68051\n",
            "[39]\tvalidation_0-error:0.00000\tvalidation_0-logloss:0.07294\tvalidation_1-error:0.29870\tvalidation_1-logloss:0.68368\n",
            "[40]\tvalidation_0-error:0.00000\tvalidation_0-logloss:0.07137\tvalidation_1-error:0.30519\tvalidation_1-logloss:0.68631\n",
            "[41]\tvalidation_0-error:0.00000\tvalidation_0-logloss:0.06919\tvalidation_1-error:0.31169\tvalidation_1-logloss:0.69128\n",
            "[42]\tvalidation_0-error:0.00000\tvalidation_0-logloss:0.06710\tvalidation_1-error:0.31818\tvalidation_1-logloss:0.70130\n",
            "[43]\tvalidation_0-error:0.00000\tvalidation_0-logloss:0.06539\tvalidation_1-error:0.31818\tvalidation_1-logloss:0.69852\n",
            "[44]\tvalidation_0-error:0.00000\tvalidation_0-logloss:0.06312\tvalidation_1-error:0.30519\tvalidation_1-logloss:0.70340\n",
            "[45]\tvalidation_0-error:0.00000\tvalidation_0-logloss:0.06184\tvalidation_1-error:0.30519\tvalidation_1-logloss:0.70519\n",
            "[46]\tvalidation_0-error:0.00000\tvalidation_0-logloss:0.06041\tvalidation_1-error:0.30519\tvalidation_1-logloss:0.70664\n",
            "[47]\tvalidation_0-error:0.00000\tvalidation_0-logloss:0.05938\tvalidation_1-error:0.30519\tvalidation_1-logloss:0.71127\n",
            "[48]\tvalidation_0-error:0.00000\tvalidation_0-logloss:0.05804\tvalidation_1-error:0.29870\tvalidation_1-logloss:0.71779\n",
            "[49]\tvalidation_0-error:0.00000\tvalidation_0-logloss:0.05700\tvalidation_1-error:0.31818\tvalidation_1-logloss:0.72043\n",
            "[50]\tvalidation_0-error:0.00000\tvalidation_0-logloss:0.05524\tvalidation_1-error:0.30519\tvalidation_1-logloss:0.72075\n",
            "[51]\tvalidation_0-error:0.00000\tvalidation_0-logloss:0.05438\tvalidation_1-error:0.29870\tvalidation_1-logloss:0.72207\n",
            "[52]\tvalidation_0-error:0.00000\tvalidation_0-logloss:0.05363\tvalidation_1-error:0.29870\tvalidation_1-logloss:0.72699\n",
            "[53]\tvalidation_0-error:0.00000\tvalidation_0-logloss:0.05244\tvalidation_1-error:0.29870\tvalidation_1-logloss:0.73088\n",
            "[54]\tvalidation_0-error:0.00000\tvalidation_0-logloss:0.05109\tvalidation_1-error:0.30519\tvalidation_1-logloss:0.73039\n",
            "[55]\tvalidation_0-error:0.00000\tvalidation_0-logloss:0.05015\tvalidation_1-error:0.30519\tvalidation_1-logloss:0.73445\n",
            "[56]\tvalidation_0-error:0.00000\tvalidation_0-logloss:0.04913\tvalidation_1-error:0.29870\tvalidation_1-logloss:0.73571\n",
            "[57]\tvalidation_0-error:0.00000\tvalidation_0-logloss:0.04856\tvalidation_1-error:0.30519\tvalidation_1-logloss:0.74056\n",
            "[58]\tvalidation_0-error:0.00000\tvalidation_0-logloss:0.04780\tvalidation_1-error:0.30519\tvalidation_1-logloss:0.74659\n",
            "[59]\tvalidation_0-error:0.00000\tvalidation_0-logloss:0.04701\tvalidation_1-error:0.30519\tvalidation_1-logloss:0.75027\n",
            "[60]\tvalidation_0-error:0.00000\tvalidation_0-logloss:0.04574\tvalidation_1-error:0.29870\tvalidation_1-logloss:0.75903\n",
            "[61]\tvalidation_0-error:0.00000\tvalidation_0-logloss:0.04468\tvalidation_1-error:0.31169\tvalidation_1-logloss:0.76114\n",
            "[62]\tvalidation_0-error:0.00000\tvalidation_0-logloss:0.04390\tvalidation_1-error:0.32468\tvalidation_1-logloss:0.76441\n",
            "[63]\tvalidation_0-error:0.00000\tvalidation_0-logloss:0.04323\tvalidation_1-error:0.32468\tvalidation_1-logloss:0.76563\n",
            "[64]\tvalidation_0-error:0.00000\tvalidation_0-logloss:0.04241\tvalidation_1-error:0.31818\tvalidation_1-logloss:0.76681\n",
            "[65]\tvalidation_0-error:0.00000\tvalidation_0-logloss:0.04168\tvalidation_1-error:0.31818\tvalidation_1-logloss:0.77172\n",
            "[66]\tvalidation_0-error:0.00000\tvalidation_0-logloss:0.04072\tvalidation_1-error:0.31818\tvalidation_1-logloss:0.77207\n",
            "[67]\tvalidation_0-error:0.00000\tvalidation_0-logloss:0.04015\tvalidation_1-error:0.31818\tvalidation_1-logloss:0.77205\n",
            "[68]\tvalidation_0-error:0.00000\tvalidation_0-logloss:0.03955\tvalidation_1-error:0.31818\tvalidation_1-logloss:0.77524\n",
            "[69]\tvalidation_0-error:0.00000\tvalidation_0-logloss:0.03901\tvalidation_1-error:0.31818\tvalidation_1-logloss:0.77601\n",
            "[70]\tvalidation_0-error:0.00000\tvalidation_0-logloss:0.03863\tvalidation_1-error:0.31818\tvalidation_1-logloss:0.78042\n",
            "[71]\tvalidation_0-error:0.00000\tvalidation_0-logloss:0.03797\tvalidation_1-error:0.32468\tvalidation_1-logloss:0.78199\n",
            "[72]\tvalidation_0-error:0.00000\tvalidation_0-logloss:0.03742\tvalidation_1-error:0.33117\tvalidation_1-logloss:0.78061\n",
            "[73]\tvalidation_0-error:0.00000\tvalidation_0-logloss:0.03677\tvalidation_1-error:0.33117\tvalidation_1-logloss:0.78305\n",
            "[74]\tvalidation_0-error:0.00000\tvalidation_0-logloss:0.03615\tvalidation_1-error:0.32468\tvalidation_1-logloss:0.78697\n",
            "[75]\tvalidation_0-error:0.00000\tvalidation_0-logloss:0.03561\tvalidation_1-error:0.32468\tvalidation_1-logloss:0.78846\n",
            "[76]\tvalidation_0-error:0.00000\tvalidation_0-logloss:0.03520\tvalidation_1-error:0.31818\tvalidation_1-logloss:0.78963\n",
            "[77]\tvalidation_0-error:0.00000\tvalidation_0-logloss:0.03464\tvalidation_1-error:0.32468\tvalidation_1-logloss:0.79012\n",
            "[78]\tvalidation_0-error:0.00000\tvalidation_0-logloss:0.03429\tvalidation_1-error:0.31818\tvalidation_1-logloss:0.79278\n",
            "[79]\tvalidation_0-error:0.00000\tvalidation_0-logloss:0.03381\tvalidation_1-error:0.31818\tvalidation_1-logloss:0.79656\n",
            "[80]\tvalidation_0-error:0.00000\tvalidation_0-logloss:0.03339\tvalidation_1-error:0.31818\tvalidation_1-logloss:0.79874\n",
            "[81]\tvalidation_0-error:0.00000\tvalidation_0-logloss:0.03309\tvalidation_1-error:0.31818\tvalidation_1-logloss:0.80015\n",
            "[82]\tvalidation_0-error:0.00000\tvalidation_0-logloss:0.03273\tvalidation_1-error:0.29870\tvalidation_1-logloss:0.80192\n",
            "[83]\tvalidation_0-error:0.00000\tvalidation_0-logloss:0.03238\tvalidation_1-error:0.31169\tvalidation_1-logloss:0.81050\n",
            "[84]\tvalidation_0-error:0.00000\tvalidation_0-logloss:0.03187\tvalidation_1-error:0.31169\tvalidation_1-logloss:0.81613\n",
            "[85]\tvalidation_0-error:0.00000\tvalidation_0-logloss:0.03140\tvalidation_1-error:0.31818\tvalidation_1-logloss:0.81584\n",
            "[86]\tvalidation_0-error:0.00000\tvalidation_0-logloss:0.03105\tvalidation_1-error:0.31169\tvalidation_1-logloss:0.81787\n",
            "[87]\tvalidation_0-error:0.00000\tvalidation_0-logloss:0.03078\tvalidation_1-error:0.30519\tvalidation_1-logloss:0.81881\n",
            "[88]\tvalidation_0-error:0.00000\tvalidation_0-logloss:0.03048\tvalidation_1-error:0.31169\tvalidation_1-logloss:0.82186\n",
            "[89]\tvalidation_0-error:0.00000\tvalidation_0-logloss:0.03010\tvalidation_1-error:0.30519\tvalidation_1-logloss:0.82300\n",
            "[90]\tvalidation_0-error:0.00000\tvalidation_0-logloss:0.02981\tvalidation_1-error:0.31169\tvalidation_1-logloss:0.82579\n",
            "[91]\tvalidation_0-error:0.00000\tvalidation_0-logloss:0.02952\tvalidation_1-error:0.31169\tvalidation_1-logloss:0.82741\n",
            "[92]\tvalidation_0-error:0.00000\tvalidation_0-logloss:0.02920\tvalidation_1-error:0.31169\tvalidation_1-logloss:0.82599\n",
            "[93]\tvalidation_0-error:0.00000\tvalidation_0-logloss:0.02879\tvalidation_1-error:0.30519\tvalidation_1-logloss:0.82858\n",
            "[94]\tvalidation_0-error:0.00000\tvalidation_0-logloss:0.02856\tvalidation_1-error:0.31169\tvalidation_1-logloss:0.83229\n",
            "[95]\tvalidation_0-error:0.00000\tvalidation_0-logloss:0.02837\tvalidation_1-error:0.30519\tvalidation_1-logloss:0.83507\n",
            "[96]\tvalidation_0-error:0.00000\tvalidation_0-logloss:0.02807\tvalidation_1-error:0.30519\tvalidation_1-logloss:0.83362\n",
            "[97]\tvalidation_0-error:0.00000\tvalidation_0-logloss:0.02773\tvalidation_1-error:0.31169\tvalidation_1-logloss:0.83608\n",
            "[98]\tvalidation_0-error:0.00000\tvalidation_0-logloss:0.02755\tvalidation_1-error:0.31169\tvalidation_1-logloss:0.83641\n",
            "[99]\tvalidation_0-error:0.00000\tvalidation_0-logloss:0.02730\tvalidation_1-error:0.31169\tvalidation_1-logloss:0.83841\n",
            "Accuracy: 68.83%\n"
          ]
        }
      ]
    },
    {
      "cell_type": "code",
      "source": [
        "results = model.evals_result()\n",
        "epochs = len(results['validation_0']['error'])\n",
        "x_axis = range(0, epochs)"
      ],
      "metadata": {
        "id": "zxSAoYK3UWDA"
      },
      "execution_count": 12,
      "outputs": []
    },
    {
      "cell_type": "code",
      "source": [
        "# Plot log loss\n",
        "fig, ax = plt.subplots()\n",
        "ax.plot(x_axis, results['validation_0']['logloss'], label='Train')\n",
        "ax.plot(x_axis, results['validation_1']['logloss'], label='Test')\n",
        "ax.legend()\n",
        "plt.ylabel('Log Loss')\n",
        "plt.title('XGBoost Log Loss')\n",
        "plt.show()"
      ],
      "metadata": {
        "colab": {
          "base_uri": "https://localhost:8080/",
          "height": 281
        },
        "id": "Aq3iucRAVh_D",
        "outputId": "7ff94c96-ea2a-4cd2-fa89-2429325cfb74"
      },
      "execution_count": 14,
      "outputs": [
        {
          "output_type": "display_data",
          "data": {
            "text/plain": [
              "<Figure size 432x288 with 1 Axes>"
            ],
            "image/png": "[encoded data removed]"
          },
          "metadata": {
            "needs_background": "light"
          }
        }
      ]
    },
    {
      "cell_type": "code",
      "source": [
        "# Plot error\n",
        "fig, ax = plt.subplots()\n",
        "ax.plot(x_axis, results['validation_0']['error'], label='Train')\n",
        "ax.plot(x_axis, results['validation_1']['error'], label='Test')\n",
        "ax.legend()\n",
        "plt.ylabel('Error')\n",
        "plt.title('XGBoost Error')\n",
        "plt.show()"
      ],
      "metadata": {
        "colab": {
          "base_uri": "https://localhost:8080/",
          "height": 281
        },
        "id": "a3oGDvq4W6rv",
        "outputId": "ab5232e8-397c-4b8d-d921-20adbb27dee2"
      },
      "execution_count": 15,
      "outputs": [
        {
          "output_type": "display_data",
          "data": {
            "text/plain": [
              "<Figure size 432x288 with 1 Axes>"
            ],
            "image/png": "[encoded data removed]"
          },
          "metadata": {
            "needs_background": "light"
          }
        }
      ]
    },
    {
      "cell_type": "markdown",
      "source": [
        "## 3. Early stopping with XGBoost"
      ],
      "metadata": {
        "id": "S75363WHaKI2"
      }
    },
    {
      "cell_type": "code",
      "source": [
        "data = pd.read_csv(pima, header=None)\n",
        "X, y = data.iloc[:, :-1], data.iloc[:, -1]\n",
        "X_train, X_test, y_train, y_test = train_test_split(X, y, test_size=0.2, random_state=42)\n",
        "model = XGBClassifier()\n",
        "eval_set = [(X_train, y_train), (X_test, y_test)]\n",
        "model.fit(X_train, y_train, eval_metric='error', eval_set=eval_set, early_stopping_rounds=5)\n",
        "y_preds = model.predict(X_test)\n",
        "score = accuracy_score(y_test, y_preds)\n",
        "print(f\"Accuracy: {score*100:.2f}%\")"
      ],
      "metadata": {
        "colab": {
          "base_uri": "https://localhost:8080/"
        },
        "id": "oGHCXaZIZjw6",
        "outputId": "9695e320-3416-4688-ba22-d0fbc74d964b"
      },
      "execution_count": 17,
      "outputs": [
        {
          "output_type": "stream",
          "name": "stdout",
          "text": [
            "[0]\tvalidation_0-error:0.14821\tvalidation_1-error:0.26623\n",
            "[1]\tvalidation_0-error:0.11889\tvalidation_1-error:0.24675\n",
            "[2]\tvalidation_0-error:0.11238\tvalidation_1-error:0.24026\n",
            "[3]\tvalidation_0-error:0.08958\tvalidation_1-error:0.24675\n",
            "[4]\tvalidation_0-error:0.08306\tvalidation_1-error:0.26623\n",
            "[5]\tvalidation_0-error:0.07492\tvalidation_1-error:0.24675\n",
            "[6]\tvalidation_0-error:0.06678\tvalidation_1-error:0.25974\n",
            "[7]\tvalidation_0-error:0.06189\tvalidation_1-error:0.25325\n",
            "Accuracy: 75.97%\n"
          ]
        },
        {
          "output_type": "stream",
          "name": "stderr",
          "text": [
            "/usr/local/lib/python3.9/dist-packages/xgboost/sklearn.py:835: UserWarning: `eval_metric` in `fit` method is deprecated for better compatibility with scikit-learn, use `eval_metric` in constructor or`set_params` instead.\n",
            "  warnings.warn(\n",
            "/usr/local/lib/python3.9/dist-packages/xgboost/sklearn.py:835: UserWarning: `early_stopping_rounds` in `fit` method is deprecated for better compatibility with scikit-learn, use `early_stopping_rounds` in constructor or`set_params` instead.\n",
            "  warnings.warn(\n"
          ]
        }
      ]
    },
    {
      "cell_type": "code",
      "source": [],
      "metadata": {
        "id": "39xpUfCFbDXB"
      },
      "execution_count": null,
      "outputs": []
    }
  ]
}